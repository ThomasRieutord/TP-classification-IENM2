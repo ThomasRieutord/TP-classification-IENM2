{
 "cells": [
  {
   "cell_type": "markdown",
   "metadata": {},
   "source": [
    "TRAVAUX PRATIQUES DE CLASSIFICATION NON-SUPERVISEE\n",
    "==============================================\n",
    "\n",
    "Ces travaux pratiques ont pour but d’appliquer et de manipuler les différents algorithmes de classification vus en cours de de classification non supervisée. Le cas d’application est l’identification de régions météorologiquement homogènes. Pour cela nous partirons du jeu de donnée Météonet, prétraité.\n",
    "\n",
    "Enseignant : Thomas Rieutord (thomas.rieutord@meteo.fr)\n",
    "\n",
    "Travail demandé :\n",
    "-----------------\n",
    "En suivant le sujet de TP qui vous a été donné, compléter les cellules vides de ce notebook, aux endroits marqués par ###### afin de répondre aux questions.\n",
    "A la fin du TP, vous devriez pouvoir exécuter l'ensemble du programme en redémarrant et exécutant le notebook : `Noyau > Redémarrer & tout exécuter`."
   ]
  },
  {
   "cell_type": "code",
   "execution_count": null,
   "metadata": {},
   "outputs": [],
   "source": [
    "import os\n",
    "import time\n",
    "import numpy as np\n",
    "import datetime as dt\n",
    "import pandas as pd\n",
    "import matplotlib.pyplot as plt\n",
    "import matplotlib.cm as cm\n",
    "import coupdepouce as c2p"
   ]
  },
  {
   "cell_type": "markdown",
   "metadata": {},
   "source": [
    "1- Position du problème\n",
    "========================\n",
    "Cette étape est en grande partie faite pour vous : il s'agit de définir, à l'aide d'une classification non-supervisée, des régions météorologiquement homogènes. Les données viennent du jeu de données MeteoNet et ont déjà été mises en forme. Les prédcteurs ont déjà été sélectionnés :\n",
    "  * `Tn`: température minimale sur une journée et moyennée sur l'année\n",
    "  * `Tx`: température maximale sur une journée et moyennée sur l'année\n",
    "  * `FFmax`: force du vent à 10m maximale sur une journée et moyennée sur l'année\n",
    "  * `RR`: cumul de précipitation sur l'année\n",
    "\n",
    "Il ne reste plus qu'à charger les données en machine."
   ]
  },
  {
   "cell_type": "markdown",
   "metadata": {},
   "source": [
    "### Extraction\n",
    "Ouvrir le fichier avec un éditeur de texte. Repérer les éléments séparateurs, la taille de l’en-tête et la nature des données (réel, entiers…).\n",
    "\n",
    "En déduire la commande pour importer les données"
   ]
  },
  {
   "cell_type": "code",
   "execution_count": null,
   "metadata": {},
   "outputs": [],
   "source": [
    "dataFile=os.path.join(\"..\", \"data\", \"obs_SE_2018.csv\")"
   ]
  },
  {
   "cell_type": "code",
   "execution_count": null,
   "metadata": {},
   "outputs": [],
   "source": [
    "df = ######\n",
    "print(\"Retourne un \", type(df), \" de taille \", df.shape)"
   ]
  },
  {
   "cell_type": "code",
   "execution_count": null,
   "metadata": {},
   "outputs": [],
   "source": [
    "# Visualisation du dataframe dans le notebook\n",
    "df"
   ]
  },
  {
   "cell_type": "markdown",
   "metadata": {},
   "source": [
    "### Vérifications\n",
    "\n",
    "Les prédicteurs sont-ils ceux attendus ?"
   ]
  },
  {
   "cell_type": "code",
   "execution_count": null,
   "metadata": {},
   "outputs": [],
   "source": [
    "predictors = list(df.columns[:-2])\n",
    "predictors"
   ]
  },
  {
   "cell_type": "markdown",
   "metadata": {},
   "source": [
    "Combien y a-t-il de données manquantes ?"
   ]
  },
  {
   "cell_type": "code",
   "execution_count": null,
   "metadata": {},
   "outputs": [],
   "source": [
    "# Nombre de données manquantes\n",
    "nb_missingVal = ######\n",
    "print(\"Nombre de données manquantes=\", nb_missingVal)"
   ]
  },
  {
   "cell_type": "markdown",
   "metadata": {},
   "source": [
    "### Normalisation"
   ]
  },
  {
   "cell_type": "code",
   "execution_count": null,
   "metadata": {},
   "outputs": [],
   "source": [
    "# Normalisation\n",
    "from sklearn.preprocessing import StandardScaler\n",
    "\n",
    "sc = StandardScaler()\n",
    "X = ######"
   ]
  },
  {
   "cell_type": "code",
   "execution_count": null,
   "metadata": {},
   "outputs": [],
   "source": [
    "N,p = X.shape\n",
    "X.shape"
   ]
  },
  {
   "cell_type": "markdown",
   "metadata": {},
   "source": [
    "2- Classification\n",
    "==============\n",
    "L'étape de classification nécessite le choix d'un nombre de clusters, bien que celui-ci soit souvent déduit de l'étape d'évaluation.\n",
    "Cette valeur devra donc être réévaluée à l'issue de l'étape d'évaluation."
   ]
  },
  {
   "cell_type": "code",
   "execution_count": null,
   "metadata": {},
   "outputs": [],
   "source": [
    "K = ######"
   ]
  },
  {
   "cell_type": "markdown",
   "metadata": {},
   "source": [
    "2-1 Classification hierarchique ascendante\n",
    "--------------------------------------"
   ]
  },
  {
   "cell_type": "code",
   "execution_count": null,
   "metadata": {},
   "outputs": [],
   "source": [
    "# Import du package scipy.cluster.hierarchy\n",
    "from scipy.cluster import hierarchy as cha"
   ]
  },
  {
   "cell_type": "markdown",
   "metadata": {},
   "source": [
    "Nous commencerons par une classification hiérarhique avec le critère de Ward et une distance euclidienne"
   ]
  },
  {
   "cell_type": "code",
   "execution_count": null,
   "metadata": {},
   "outputs": [],
   "source": [
    "# Calcul de la matrice de connexion ('linkage matrix') -> cha.linkage\"\n",
    "\n",
    "linkageMatrix = ######\n",
    "\n",
    "print(\"Retourne un \",type(linkageMatrix),\" de taille \",np.shape(linkageMatrix))"
   ]
  },
  {
   "cell_type": "code",
   "execution_count": null,
   "metadata": {},
   "outputs": [],
   "source": [
    "# Formation des groupes -> cha.fcluster\n",
    "\n",
    "labels_cha = ######"
   ]
  },
  {
   "cell_type": "markdown",
   "metadata": {},
   "source": [
    "**Attention :** nous souhaitons avoir des clusters numérotés entre 0 et K-1 et non entre 1 et K !"
   ]
  },
  {
   "cell_type": "markdown",
   "metadata": {},
   "source": [
    "\n",
    "2-2 K-means\n",
    "---------------------------------------------------\n",
    "Il existe deux packages pour utiliser les K-means : `pyclustering` et `scikit-learn`"
   ]
  },
  {
   "cell_type": "code",
   "execution_count": null,
   "metadata": {},
   "outputs": [],
   "source": [
    "from sklearn.cluster import KMeans"
   ]
  },
  {
   "cell_type": "code",
   "execution_count": null,
   "metadata": {},
   "outputs": [],
   "source": [
    "n_init=20\n",
    "\n",
    "# Créer une instance de Kmeans\n",
    "km_spy = ######\n",
    "\n",
    "# Effectuer les calculs\n",
    "######\n",
    "\n",
    "# Récupérer les labels\n",
    "labels_km_skl = ######\n",
    "\n",
    "print(\"Kmeans (sklearn) retourne \", type(labels_km_skl), \"de taille\", len(labels_km_skl))\n",
    "labels_km_skl"
   ]
  },
  {
   "cell_type": "markdown",
   "metadata": {},
   "source": [
    "**Attention :** nous souhaitons avoir des clusters numérotés entre 0 et K-1 et non entre 1 et K !"
   ]
  },
  {
   "cell_type": "code",
   "execution_count": null,
   "metadata": {},
   "outputs": [],
   "source": [
    "from pyclustering.cluster.kmeans import kmeans"
   ]
  },
  {
   "cell_type": "code",
   "execution_count": null,
   "metadata": {},
   "outputs": [],
   "source": [
    "# On prend K points de l'echantillon que l'on perturbe\n",
    "init_medoids = X[np.random.choice(N, K, replace=False), :] + 2*np.random.sample(p)-1\n",
    "\n",
    "# Créer une instance de Kmeans\n",
    "km_pyclust = ######\n",
    "\n",
    "# Effectuer les calculs\n",
    "######\n",
    "\n",
    "# Récupérer les clusters\n",
    "clusters_km_pyclust = ######\n",
    "print(\"Kmeans (pyclustering) retourne \", type(clusters_km_pyclust), \"de taille\", len(clusters_km_pyclust))\n",
    "\n",
    "# Transformation en labels (à la main)\n",
    "labels_km_pyclust = np.zeros(N)\n",
    "for k in range(K):\n",
    "    labels_km_pyclust[clusters_km_pyclust[k]] = k\n",
    "\n",
    "labels_km_pyclust"
   ]
  },
  {
   "cell_type": "markdown",
   "metadata": {},
   "source": [
    "**Attention :** nous souhaitons avoir des clusters numérotés entre 0 et K-1 et non entre 1 et K !"
   ]
  },
  {
   "cell_type": "markdown",
   "metadata": {},
   "source": [
    "2-3 K-medoids\n",
    "--------------------------------------------------\n",
    "Les K-medoids ne sont pas (encore) disponible dans `scikit-learn`.\n",
    "Ils le sont dans une extension non-officielle et dans `pyclustering`."
   ]
  },
  {
   "cell_type": "code",
   "execution_count": null,
   "metadata": {},
   "outputs": [],
   "source": [
    "from pyclustering.cluster.kmedoids import kmedoids"
   ]
  },
  {
   "cell_type": "code",
   "execution_count": null,
   "metadata": {},
   "outputs": [],
   "source": [
    "# Choix des points de départ (aléatoire)\n",
    "init_medoids = np.random.choice(N, K, replace=False)\n",
    "print(u\"Choix des points de départ (aléatoire) : \", K, \"points de l'échantillon. Indices :\", init_medoids)\n",
    "\n",
    "# Créer une instance de Kmedoids\n",
    "pam = ######\n",
    "# Effectuer les calculs\n",
    "######\n",
    "# Récupérer les clusters\n",
    "clusters_pam = ######\n",
    "\n",
    "print(\"Kmedoids (pyclustering) retourne \", type(clusters_pam), \"de taille\", len(clusters_pam))\n",
    "\n",
    "# Transformation en labels\n",
    "labels_pam = np.zeros(N)\n",
    "for k in range(K):\n",
    "    labels_pam[clusters_pam[k]] = k\n",
    "\n",
    "labels_pam"
   ]
  },
  {
   "cell_type": "markdown",
   "metadata": {},
   "source": [
    "**Attention :** nous souhaitons avoir des clusters numérotés entre 0 et K-1 et non entre 1 et K !"
   ]
  },
  {
   "cell_type": "markdown",
   "metadata": {},
   "source": [
    "3- Évaluation\n",
    "==============\n",
    "\n",
    "3-1 Visualisation des classes\n",
    "-----------------------------\n",
    "\n",
    "Nous avons maintenant une classification des stations. Pour la commenter, il est important de pouvoir se représenter correctement ces classes. Nous cherchons ici à identifier des zones météorologiquement différentes selon la région. On va donc d’une part positionner les stations avec leur classe sur une carte et d'autre part regarder en quoi consistent les différences entre les clusters."
   ]
  },
  {
   "cell_type": "code",
   "execution_count": null,
   "metadata": {},
   "outputs": [],
   "source": [
    "labels = labels_cha\n",
    "df['clusterlabel'] = labels"
   ]
  },
  {
   "cell_type": "code",
   "execution_count": null,
   "metadata": {},
   "outputs": [],
   "source": [
    "# Choix de la colormap pour les clusters\n",
    "import seaborn as sns\n",
    "colmap = sns.color_palette(\"Paired\", n_colors=K)"
   ]
  },
  {
   "cell_type": "markdown",
   "metadata": {},
   "source": [
    "### Dendrogramme"
   ]
  },
  {
   "cell_type": "code",
   "execution_count": null,
   "metadata": {},
   "outputs": [],
   "source": [
    "# Tracé du dendrogramme -> cha.dendrogram\n",
    "\n",
    "plt.figure()\n",
    "######\n",
    "plt.ylabel(\"Distance cophénétique\")\n",
    "plt.xlabel(\"Stations\")\n",
    "plt.show(block=False)"
   ]
  },
  {
   "cell_type": "markdown",
   "metadata": {},
   "source": [
    "### Pairplot"
   ]
  },
  {
   "cell_type": "code",
   "execution_count": null,
   "metadata": {},
   "outputs": [],
   "source": [
    "# Tracé du diagramme par paire -> sns.pairplot\n",
    "plt.figure()\n",
    "######\n",
    "plt.show(block=False)"
   ]
  },
  {
   "cell_type": "markdown",
   "metadata": {},
   "source": [
    "### Sur une carte"
   ]
  },
  {
   "cell_type": "code",
   "execution_count": null,
   "metadata": {},
   "outputs": [],
   "source": [
    "# Tracé sur une carte -> c2p.plot_clusters_on_map\n",
    "\n",
    "######"
   ]
  },
  {
   "cell_type": "markdown",
   "metadata": {},
   "source": [
    "3-2 Calcul de scores\n",
    "--------------------------------------------------"
   ]
  },
  {
   "cell_type": "code",
   "execution_count": null,
   "metadata": {},
   "outputs": [],
   "source": [
    "from sklearn import metrics"
   ]
  },
  {
   "cell_type": "code",
   "execution_count": null,
   "metadata": {},
   "outputs": [],
   "source": [
    "# Calcul du score de silhouette -> sklearn.metrics.silhouette_samples\n",
    "silhouette_values = ######\n",
    "print(\"Retourne un\", type(silhouette_values), \" de taille \", silhouette_values.shape)"
   ]
  },
  {
   "cell_type": "code",
   "execution_count": null,
   "metadata": {},
   "outputs": [],
   "source": [
    "# Calcul du score de silhouette -> sklearn.metrics.silhouette_score\n",
    "sil_score = ######\n",
    "print(\"Retourne un\", type(sil_score), \" de valeur \", sil_score)"
   ]
  },
  {
   "cell_type": "code",
   "execution_count": null,
   "metadata": {},
   "outputs": [],
   "source": [
    "c2p.plot_silhouette(silhouette_values, labels, colormap=colmap)"
   ]
  },
  {
   "cell_type": "markdown",
   "metadata": {},
   "source": [
    "Pour visualiser les clusters, réexécuter les cellules dédiées avec `labels=labels_km_spy` (par exemple)."
   ]
  },
  {
   "cell_type": "markdown",
   "metadata": {},
   "source": [
    "### Choix du nombre de cluster optimal"
   ]
  },
  {
   "cell_type": "code",
   "execution_count": null,
   "metadata": {},
   "outputs": [],
   "source": [
    "K_values = np.arange(2, 10)\n",
    "sil_scores_cha = []\n",
    "sil_scores_km = []\n",
    "\n",
    "######\n",
    "######\n",
    "\n",
    "# -=-=-=-=-=-=-=-=-=-=-=-=-=-=-=-=-=-=-=-=-\n",
    "plt.figure()\n",
    "plt.plot(K_values, sil_scores_cha, label=\"Hierarchique\")\n",
    "plt.plot(K_values, sil_scores_km, label=\"K-means\")\n",
    "plt.ylabel(\"Score silhouette\")\n",
    "plt.xlabel(\"Nombre de classes\")\n",
    "plt.grid()\n",
    "plt.legend()\n",
    "plt.show(block=False)\n",
    "# -=-=-=-=-=-=-=-=-=-=-=-=-=-=-=-=-=-=-=-=-"
   ]
  },
  {
   "cell_type": "markdown",
   "metadata": {},
   "source": [
    "Deverrouillage de la correction\n",
    "--------------------------------------------\n",
    "Pour déverrouiller le notebook qui contient la correction, il vous faudra utiliser la commande `gpg correction.ipynb`.\n",
    "Une phrase de passe vous sera demandée.\n",
    "Il s'agit de la somme du score de silhouette obtenu avec une classification hiérarchique ascendante avec saut minimum et distance euclidienne pour K variant de 2 à 9, avec 6 décimales..."
   ]
  },
  {
   "cell_type": "code",
   "execution_count": null,
   "metadata": {},
   "outputs": [],
   "source": [
    "######\n",
    "######"
   ]
  },
  {
   "cell_type": "code",
   "execution_count": null,
   "metadata": {},
   "outputs": [],
   "source": []
  }
 ],
 "metadata": {
  "kernelspec": {
   "display_name": "Python 3",
   "language": "python",
   "name": "python3"
  },
  "language_info": {
   "codemirror_mode": {
    "name": "ipython",
    "version": 3
   },
   "file_extension": ".py",
   "mimetype": "text/x-python",
   "name": "python",
   "nbconvert_exporter": "python",
   "pygments_lexer": "ipython3",
   "version": "3.8.10"
  }
 },
 "nbformat": 4,
 "nbformat_minor": 4
}
